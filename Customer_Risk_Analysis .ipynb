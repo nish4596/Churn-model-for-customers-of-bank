{
  "nbformat": 4,
  "nbformat_minor": 0,
  "metadata": {
    "kernelspec": {
      "display_name": "Python 3",
      "language": "python",
      "name": "python3"
    },
    "language_info": {
      "codemirror_mode": {
        "name": "ipython",
        "version": 3
      },
      "file_extension": ".py",
      "mimetype": "text/x-python",
      "name": "python",
      "nbconvert_exporter": "python",
      "pygments_lexer": "ipython3",
      "version": "3.7.7"
    },
    "colab": {
      "name": "Customer Risk Analysis.ipynb",
      "provenance": []
    },
    "accelerator": "GPU"
  },
  "cells": [
    {
      "cell_type": "code",
      "metadata": {
        "id": "GiiOLs9J3wsX",
        "colab_type": "code",
        "colab": {
          "base_uri": "https://localhost:8080/",
          "height": 141
        },
        "outputId": "a4408710-80aa-4271-eb39-8a5ad2604dda"
      },
      "source": [
        "import pandas as pd\n",
        "import numpy as np\n",
        "import matplotlib.pyplot as plt\n",
        "import seaborn as sns\n",
        "from sklearn.linear_model import LogisticRegression \n",
        "from sklearn.preprocessing import StandardScaler \n",
        "from sklearn.metrics import confusion_matrix, classification_report\n",
        "from sklearn.model_selection import train_test_split\n",
        "from imblearn.over_sampling import SMOTE\n",
        "\n",
        "from sklearn.model_selection import train_test_split,GridSearchCV,cross_val_score,KFold\n",
        "from sklearn.preprocessing import StandardScaler  \n",
        "from sklearn.metrics import accuracy_score\n",
        "from sklearn.neighbors import KNeighborsClassifier\n",
        "from sklearn.discriminant_analysis import LinearDiscriminantAnalysis\n",
        "from sklearn.linear_model import LogisticRegression\n",
        "from sklearn.svm import SVC\n",
        "from sklearn.naive_bayes import GaussianNB\n",
        "from sklearn.tree import DecisionTreeClassifier\n",
        "from sklearn.ensemble import RandomForestClassifier,GradientBoostingClassifier,VotingClassifier,BaggingClassifier\n",
        "from xgboost import XGBClassifier\n",
        "#from lightgbm import LGBMClassifier\n",
        "#from catboost import CatBoostClassifier\n",
        "from sklearn.neural_network import MLPClassifier\n",
        "from sklearn.calibration import CalibratedClassifierCV\n",
        "import time"
      ],
      "execution_count": 1,
      "outputs": [
        {
          "output_type": "stream",
          "text": [
            "/usr/local/lib/python3.6/dist-packages/statsmodels/tools/_testing.py:19: FutureWarning: pandas.util.testing is deprecated. Use the functions in the public API at pandas.testing instead.\n",
            "  import pandas.util.testing as tm\n",
            "/usr/local/lib/python3.6/dist-packages/sklearn/externals/six.py:31: FutureWarning: The module is deprecated in version 0.21 and will be removed in version 0.23 since we've dropped support for Python 2.7. Please rely on the official version of six (https://pypi.org/project/six/).\n",
            "  \"(https://pypi.org/project/six/).\", FutureWarning)\n",
            "/usr/local/lib/python3.6/dist-packages/sklearn/utils/deprecation.py:144: FutureWarning: The sklearn.neighbors.base module is  deprecated in version 0.22 and will be removed in version 0.24. The corresponding classes / functions should instead be imported from sklearn.neighbors. Anything that cannot be imported from sklearn.neighbors is now part of the private API.\n",
            "  warnings.warn(message, FutureWarning)\n"
          ],
          "name": "stderr"
        }
      ]
    },
    {
      "cell_type": "code",
      "metadata": {
        "id": "pXl7vlrW3wsb",
        "colab_type": "code",
        "colab": {}
      },
      "source": [
        "data = pd.read_csv('Churn_Modelling.csv')"
      ],
      "execution_count": 2,
      "outputs": []
    },
    {
      "cell_type": "code",
      "metadata": {
        "id": "osEwpiaX3wse",
        "colab_type": "code",
        "colab": {
          "base_uri": "https://localhost:8080/",
          "height": 222
        },
        "outputId": "ad2378aa-7222-472a-a194-3af7f5f8ef4f"
      },
      "source": [
        "data.head()"
      ],
      "execution_count": 3,
      "outputs": [
        {
          "output_type": "execute_result",
          "data": {
            "text/html": [
              "<div>\n",
              "<style scoped>\n",
              "    .dataframe tbody tr th:only-of-type {\n",
              "        vertical-align: middle;\n",
              "    }\n",
              "\n",
              "    .dataframe tbody tr th {\n",
              "        vertical-align: top;\n",
              "    }\n",
              "\n",
              "    .dataframe thead th {\n",
              "        text-align: right;\n",
              "    }\n",
              "</style>\n",
              "<table border=\"1\" class=\"dataframe\">\n",
              "  <thead>\n",
              "    <tr style=\"text-align: right;\">\n",
              "      <th></th>\n",
              "      <th>RowNumber</th>\n",
              "      <th>CustomerId</th>\n",
              "      <th>Surname</th>\n",
              "      <th>CreditScore</th>\n",
              "      <th>Geography</th>\n",
              "      <th>Gender</th>\n",
              "      <th>Age</th>\n",
              "      <th>Tenure</th>\n",
              "      <th>Balance</th>\n",
              "      <th>NumOfProducts</th>\n",
              "      <th>HasCrCard</th>\n",
              "      <th>IsActiveMember</th>\n",
              "      <th>EstimatedSalary</th>\n",
              "      <th>Exited</th>\n",
              "    </tr>\n",
              "  </thead>\n",
              "  <tbody>\n",
              "    <tr>\n",
              "      <th>0</th>\n",
              "      <td>1</td>\n",
              "      <td>15634602</td>\n",
              "      <td>Hargrave</td>\n",
              "      <td>619</td>\n",
              "      <td>France</td>\n",
              "      <td>Female</td>\n",
              "      <td>42</td>\n",
              "      <td>2</td>\n",
              "      <td>0.00</td>\n",
              "      <td>1</td>\n",
              "      <td>1</td>\n",
              "      <td>1</td>\n",
              "      <td>101348.88</td>\n",
              "      <td>1</td>\n",
              "    </tr>\n",
              "    <tr>\n",
              "      <th>1</th>\n",
              "      <td>2</td>\n",
              "      <td>15647311</td>\n",
              "      <td>Hill</td>\n",
              "      <td>608</td>\n",
              "      <td>Spain</td>\n",
              "      <td>Female</td>\n",
              "      <td>41</td>\n",
              "      <td>1</td>\n",
              "      <td>83807.86</td>\n",
              "      <td>1</td>\n",
              "      <td>0</td>\n",
              "      <td>1</td>\n",
              "      <td>112542.58</td>\n",
              "      <td>0</td>\n",
              "    </tr>\n",
              "    <tr>\n",
              "      <th>2</th>\n",
              "      <td>3</td>\n",
              "      <td>15619304</td>\n",
              "      <td>Onio</td>\n",
              "      <td>502</td>\n",
              "      <td>France</td>\n",
              "      <td>Female</td>\n",
              "      <td>42</td>\n",
              "      <td>8</td>\n",
              "      <td>159660.80</td>\n",
              "      <td>3</td>\n",
              "      <td>1</td>\n",
              "      <td>0</td>\n",
              "      <td>113931.57</td>\n",
              "      <td>1</td>\n",
              "    </tr>\n",
              "    <tr>\n",
              "      <th>3</th>\n",
              "      <td>4</td>\n",
              "      <td>15701354</td>\n",
              "      <td>Boni</td>\n",
              "      <td>699</td>\n",
              "      <td>France</td>\n",
              "      <td>Female</td>\n",
              "      <td>39</td>\n",
              "      <td>1</td>\n",
              "      <td>0.00</td>\n",
              "      <td>2</td>\n",
              "      <td>0</td>\n",
              "      <td>0</td>\n",
              "      <td>93826.63</td>\n",
              "      <td>0</td>\n",
              "    </tr>\n",
              "    <tr>\n",
              "      <th>4</th>\n",
              "      <td>5</td>\n",
              "      <td>15737888</td>\n",
              "      <td>Mitchell</td>\n",
              "      <td>850</td>\n",
              "      <td>Spain</td>\n",
              "      <td>Female</td>\n",
              "      <td>43</td>\n",
              "      <td>2</td>\n",
              "      <td>125510.82</td>\n",
              "      <td>1</td>\n",
              "      <td>1</td>\n",
              "      <td>1</td>\n",
              "      <td>79084.10</td>\n",
              "      <td>0</td>\n",
              "    </tr>\n",
              "  </tbody>\n",
              "</table>\n",
              "</div>"
            ],
            "text/plain": [
              "   RowNumber  CustomerId   Surname  ...  IsActiveMember EstimatedSalary Exited\n",
              "0          1    15634602  Hargrave  ...               1       101348.88      1\n",
              "1          2    15647311      Hill  ...               1       112542.58      0\n",
              "2          3    15619304      Onio  ...               0       113931.57      1\n",
              "3          4    15701354      Boni  ...               0        93826.63      0\n",
              "4          5    15737888  Mitchell  ...               1        79084.10      0\n",
              "\n",
              "[5 rows x 14 columns]"
            ]
          },
          "metadata": {
            "tags": []
          },
          "execution_count": 3
        }
      ]
    },
    {
      "cell_type": "markdown",
      "metadata": {
        "id": "Xg8RGNRo3wsj",
        "colab_type": "text"
      },
      "source": [
        "The following columns are redundant and can be dropped : Rownumber, CustomerId, Surname"
      ]
    },
    {
      "cell_type": "code",
      "metadata": {
        "id": "SqoXDXI13wsj",
        "colab_type": "code",
        "colab": {}
      },
      "source": [
        "data.drop(['RowNumber','CustomerId','Surname'],axis=1,inplace=True)"
      ],
      "execution_count": 4,
      "outputs": []
    },
    {
      "cell_type": "code",
      "metadata": {
        "id": "ARlK-sUD3wsm",
        "colab_type": "code",
        "colab": {
          "base_uri": "https://localhost:8080/",
          "height": 329
        },
        "outputId": "8063673d-8256-427a-af4e-00204db0bf1b"
      },
      "source": [
        "data.info()"
      ],
      "execution_count": 5,
      "outputs": [
        {
          "output_type": "stream",
          "text": [
            "<class 'pandas.core.frame.DataFrame'>\n",
            "RangeIndex: 10000 entries, 0 to 9999\n",
            "Data columns (total 11 columns):\n",
            " #   Column           Non-Null Count  Dtype  \n",
            "---  ------           --------------  -----  \n",
            " 0   CreditScore      10000 non-null  int64  \n",
            " 1   Geography        10000 non-null  object \n",
            " 2   Gender           10000 non-null  object \n",
            " 3   Age              10000 non-null  int64  \n",
            " 4   Tenure           10000 non-null  int64  \n",
            " 5   Balance          10000 non-null  float64\n",
            " 6   NumOfProducts    10000 non-null  int64  \n",
            " 7   HasCrCard        10000 non-null  int64  \n",
            " 8   IsActiveMember   10000 non-null  int64  \n",
            " 9   EstimatedSalary  10000 non-null  float64\n",
            " 10  Exited           10000 non-null  int64  \n",
            "dtypes: float64(2), int64(7), object(2)\n",
            "memory usage: 859.5+ KB\n"
          ],
          "name": "stdout"
        }
      ]
    },
    {
      "cell_type": "code",
      "metadata": {
        "id": "qa8Q2rAl3wsp",
        "colab_type": "code",
        "colab": {
          "base_uri": "https://localhost:8080/",
          "height": 225
        },
        "outputId": "7fe0a36c-d546-4628-b380-9154b5173e29"
      },
      "source": [
        "data.isna().sum()"
      ],
      "execution_count": 6,
      "outputs": [
        {
          "output_type": "execute_result",
          "data": {
            "text/plain": [
              "CreditScore        0\n",
              "Geography          0\n",
              "Gender             0\n",
              "Age                0\n",
              "Tenure             0\n",
              "Balance            0\n",
              "NumOfProducts      0\n",
              "HasCrCard          0\n",
              "IsActiveMember     0\n",
              "EstimatedSalary    0\n",
              "Exited             0\n",
              "dtype: int64"
            ]
          },
          "metadata": {
            "tags": []
          },
          "execution_count": 6
        }
      ]
    },
    {
      "cell_type": "markdown",
      "metadata": {
        "id": "7VWd3wCR3wsr",
        "colab_type": "text"
      },
      "source": [
        "No null values are seen in the dataset"
      ]
    },
    {
      "cell_type": "code",
      "metadata": {
        "id": "mG1hFe5D3wss",
        "colab_type": "code",
        "colab": {
          "base_uri": "https://localhost:8080/",
          "height": 314
        },
        "outputId": "a0a41497-2f3f-4034-df45-ba983a744e8e"
      },
      "source": [
        "data.describe()"
      ],
      "execution_count": 7,
      "outputs": [
        {
          "output_type": "execute_result",
          "data": {
            "text/html": [
              "<div>\n",
              "<style scoped>\n",
              "    .dataframe tbody tr th:only-of-type {\n",
              "        vertical-align: middle;\n",
              "    }\n",
              "\n",
              "    .dataframe tbody tr th {\n",
              "        vertical-align: top;\n",
              "    }\n",
              "\n",
              "    .dataframe thead th {\n",
              "        text-align: right;\n",
              "    }\n",
              "</style>\n",
              "<table border=\"1\" class=\"dataframe\">\n",
              "  <thead>\n",
              "    <tr style=\"text-align: right;\">\n",
              "      <th></th>\n",
              "      <th>CreditScore</th>\n",
              "      <th>Age</th>\n",
              "      <th>Tenure</th>\n",
              "      <th>Balance</th>\n",
              "      <th>NumOfProducts</th>\n",
              "      <th>HasCrCard</th>\n",
              "      <th>IsActiveMember</th>\n",
              "      <th>EstimatedSalary</th>\n",
              "      <th>Exited</th>\n",
              "    </tr>\n",
              "  </thead>\n",
              "  <tbody>\n",
              "    <tr>\n",
              "      <th>count</th>\n",
              "      <td>10000.000000</td>\n",
              "      <td>10000.000000</td>\n",
              "      <td>10000.000000</td>\n",
              "      <td>10000.000000</td>\n",
              "      <td>10000.000000</td>\n",
              "      <td>10000.00000</td>\n",
              "      <td>10000.000000</td>\n",
              "      <td>10000.000000</td>\n",
              "      <td>10000.000000</td>\n",
              "    </tr>\n",
              "    <tr>\n",
              "      <th>mean</th>\n",
              "      <td>650.528800</td>\n",
              "      <td>38.921800</td>\n",
              "      <td>5.012800</td>\n",
              "      <td>76485.889288</td>\n",
              "      <td>1.530200</td>\n",
              "      <td>0.70550</td>\n",
              "      <td>0.515100</td>\n",
              "      <td>100090.239881</td>\n",
              "      <td>0.203700</td>\n",
              "    </tr>\n",
              "    <tr>\n",
              "      <th>std</th>\n",
              "      <td>96.653299</td>\n",
              "      <td>10.487806</td>\n",
              "      <td>2.892174</td>\n",
              "      <td>62397.405202</td>\n",
              "      <td>0.581654</td>\n",
              "      <td>0.45584</td>\n",
              "      <td>0.499797</td>\n",
              "      <td>57510.492818</td>\n",
              "      <td>0.402769</td>\n",
              "    </tr>\n",
              "    <tr>\n",
              "      <th>min</th>\n",
              "      <td>350.000000</td>\n",
              "      <td>18.000000</td>\n",
              "      <td>0.000000</td>\n",
              "      <td>0.000000</td>\n",
              "      <td>1.000000</td>\n",
              "      <td>0.00000</td>\n",
              "      <td>0.000000</td>\n",
              "      <td>11.580000</td>\n",
              "      <td>0.000000</td>\n",
              "    </tr>\n",
              "    <tr>\n",
              "      <th>25%</th>\n",
              "      <td>584.000000</td>\n",
              "      <td>32.000000</td>\n",
              "      <td>3.000000</td>\n",
              "      <td>0.000000</td>\n",
              "      <td>1.000000</td>\n",
              "      <td>0.00000</td>\n",
              "      <td>0.000000</td>\n",
              "      <td>51002.110000</td>\n",
              "      <td>0.000000</td>\n",
              "    </tr>\n",
              "    <tr>\n",
              "      <th>50%</th>\n",
              "      <td>652.000000</td>\n",
              "      <td>37.000000</td>\n",
              "      <td>5.000000</td>\n",
              "      <td>97198.540000</td>\n",
              "      <td>1.000000</td>\n",
              "      <td>1.00000</td>\n",
              "      <td>1.000000</td>\n",
              "      <td>100193.915000</td>\n",
              "      <td>0.000000</td>\n",
              "    </tr>\n",
              "    <tr>\n",
              "      <th>75%</th>\n",
              "      <td>718.000000</td>\n",
              "      <td>44.000000</td>\n",
              "      <td>7.000000</td>\n",
              "      <td>127644.240000</td>\n",
              "      <td>2.000000</td>\n",
              "      <td>1.00000</td>\n",
              "      <td>1.000000</td>\n",
              "      <td>149388.247500</td>\n",
              "      <td>0.000000</td>\n",
              "    </tr>\n",
              "    <tr>\n",
              "      <th>max</th>\n",
              "      <td>850.000000</td>\n",
              "      <td>92.000000</td>\n",
              "      <td>10.000000</td>\n",
              "      <td>250898.090000</td>\n",
              "      <td>4.000000</td>\n",
              "      <td>1.00000</td>\n",
              "      <td>1.000000</td>\n",
              "      <td>199992.480000</td>\n",
              "      <td>1.000000</td>\n",
              "    </tr>\n",
              "  </tbody>\n",
              "</table>\n",
              "</div>"
            ],
            "text/plain": [
              "        CreditScore           Age  ...  EstimatedSalary        Exited\n",
              "count  10000.000000  10000.000000  ...     10000.000000  10000.000000\n",
              "mean     650.528800     38.921800  ...    100090.239881      0.203700\n",
              "std       96.653299     10.487806  ...     57510.492818      0.402769\n",
              "min      350.000000     18.000000  ...        11.580000      0.000000\n",
              "25%      584.000000     32.000000  ...     51002.110000      0.000000\n",
              "50%      652.000000     37.000000  ...    100193.915000      0.000000\n",
              "75%      718.000000     44.000000  ...    149388.247500      0.000000\n",
              "max      850.000000     92.000000  ...    199992.480000      1.000000\n",
              "\n",
              "[8 rows x 9 columns]"
            ]
          },
          "metadata": {
            "tags": []
          },
          "execution_count": 7
        }
      ]
    },
    {
      "cell_type": "code",
      "metadata": {
        "id": "l8LcpzAU3wsv",
        "colab_type": "code",
        "colab": {
          "base_uri": "https://localhost:8080/",
          "height": 171
        },
        "outputId": "04a44c57-22be-4467-a1ad-8479476937e5"
      },
      "source": [
        "data[['Gender','Geography']].describe()"
      ],
      "execution_count": 8,
      "outputs": [
        {
          "output_type": "execute_result",
          "data": {
            "text/html": [
              "<div>\n",
              "<style scoped>\n",
              "    .dataframe tbody tr th:only-of-type {\n",
              "        vertical-align: middle;\n",
              "    }\n",
              "\n",
              "    .dataframe tbody tr th {\n",
              "        vertical-align: top;\n",
              "    }\n",
              "\n",
              "    .dataframe thead th {\n",
              "        text-align: right;\n",
              "    }\n",
              "</style>\n",
              "<table border=\"1\" class=\"dataframe\">\n",
              "  <thead>\n",
              "    <tr style=\"text-align: right;\">\n",
              "      <th></th>\n",
              "      <th>Gender</th>\n",
              "      <th>Geography</th>\n",
              "    </tr>\n",
              "  </thead>\n",
              "  <tbody>\n",
              "    <tr>\n",
              "      <th>count</th>\n",
              "      <td>10000</td>\n",
              "      <td>10000</td>\n",
              "    </tr>\n",
              "    <tr>\n",
              "      <th>unique</th>\n",
              "      <td>2</td>\n",
              "      <td>3</td>\n",
              "    </tr>\n",
              "    <tr>\n",
              "      <th>top</th>\n",
              "      <td>Male</td>\n",
              "      <td>France</td>\n",
              "    </tr>\n",
              "    <tr>\n",
              "      <th>freq</th>\n",
              "      <td>5457</td>\n",
              "      <td>5014</td>\n",
              "    </tr>\n",
              "  </tbody>\n",
              "</table>\n",
              "</div>"
            ],
            "text/plain": [
              "       Gender Geography\n",
              "count   10000     10000\n",
              "unique      2         3\n",
              "top      Male    France\n",
              "freq     5457      5014"
            ]
          },
          "metadata": {
            "tags": []
          },
          "execution_count": 8
        }
      ]
    },
    {
      "cell_type": "code",
      "metadata": {
        "id": "TMNA5vnq3wsx",
        "colab_type": "code",
        "colab": {}
      },
      "source": [
        "cat_var = ['NumOfProducts','HasCrCard','IsActiveMember','Gender','Geography']\n",
        "num_var = ['CreditScore','Age','Tenure','Balance','EstimatedSalary']"
      ],
      "execution_count": 9,
      "outputs": []
    },
    {
      "cell_type": "code",
      "metadata": {
        "scrolled": false,
        "id": "QwMXeDbe3wsz",
        "colab_type": "code",
        "colab": {
          "base_uri": "https://localhost:8080/",
          "height": 1000
        },
        "outputId": "6f3decf4-4ea9-44e3-bf75-735c8553b79d"
      },
      "source": [
        "#EDA\n",
        "for i,var in enumerate(cat_var,1):\n",
        "    print(f'Number of observations in each category of {var} :\\n{data[var].value_counts()}')\n",
        "    plt.subplot(1,2,1)\n",
        "    sns.violinplot(x='Exited',y=var,data=data)\n",
        "    plt.subplot(1,2,2)\n",
        "    sns.countplot(x='Exited',hue=var,data=data)\n",
        "    plt.show()"
      ],
      "execution_count": 10,
      "outputs": [
        {
          "output_type": "stream",
          "text": [
            "Number of observations in each category of NumOfProducts :\n",
            "1    5084\n",
            "2    4590\n",
            "3     266\n",
            "4      60\n",
            "Name: NumOfProducts, dtype: int64\n"
          ],
          "name": "stdout"
        },
        {
          "output_type": "display_data",
          "data": {
            "image/png": "[encoded data removed]",
            "text/plain": [
              "<Figure size 432x288 with 2 Axes>"
            ]
          },
          "metadata": {
            "tags": [],
            "needs_background": "light"
          }
        },
        {
          "output_type": "stream",
          "text": [
            "Number of observations in each category of HasCrCard :\n",
            "1    7055\n",
            "0    2945\n",
            "Name: HasCrCard, dtype: int64\n"
          ],
          "name": "stdout"
        },
        {
          "output_type": "display_data",
          "data": {
            "image/png": "[encoded data removed]",
            "text/plain": [
              "<Figure size 432x288 with 2 Axes>"
            ]
          },
          "metadata": {
            "tags": [],
            "needs_background": "light"
          }
        },
        {
          "output_type": "stream",
          "text": [
            "Number of observations in each category of IsActiveMember :\n",
            "1    5151\n",
            "0    4849\n",
            "Name: IsActiveMember, dtype: int64\n"
          ],
          "name": "stdout"
        },
        {
          "output_type": "display_data",
          "data": {
            "image/png": "[encoded data removed]",
            "text/plain": [
              "<Figure size 432x288 with 2 Axes>"
            ]
          },
          "metadata": {
            "tags": [],
            "needs_background": "light"
          }
        },
        {
          "output_type": "stream",
          "text": [
            "Number of observations in each category of Gender :\n",
            "Male      5457\n",
            "Female    4543\n",
            "Name: Gender, dtype: int64\n"
          ],
          "name": "stdout"
        },
        {
          "output_type": "display_data",
          "data": {
            "image/png": "[encoded data removed]",
            "text/plain": [
              "<Figure size 432x288 with 2 Axes>"
            ]
          },
          "metadata": {
            "tags": [],
            "needs_background": "light"
          }
        },
        {
          "output_type": "stream",
          "text": [
            "Number of observations in each category of Geography :\n",
            "France     5014\n",
            "Germany    2509\n",
            "Spain      2477\n",
            "Name: Geography, dtype: int64\n"
          ],
          "name": "stdout"
        },
        {
          "output_type": "display_data",
          "data": {
            "image/png": "[encoded data removed]",
            "text/plain": [
              "<Figure size 432x288 with 2 Axes>"
            ]
          },
          "metadata": {
            "tags": [],
            "needs_background": "light"
          }
        }
      ]
    },
    {
      "cell_type": "markdown",
      "metadata": {
        "id": "I5nk4iVo3ws1",
        "colab_type": "text"
      },
      "source": [
        "When a customer is not an active member then they are likely to exit more.\n",
        "Females are likely to exit more than males.\n",
        "The percent of people in Germany "
      ]
    },
    {
      "cell_type": "code",
      "metadata": {
        "id": "zdGnE9eV3ws2",
        "colab_type": "code",
        "colab": {
          "base_uri": "https://localhost:8080/",
          "height": 69
        },
        "outputId": "1e953ecf-e109-495e-8e22-a2814d4a3f53"
      },
      "source": [
        "#To find the number of observations in each class\n",
        "data['Exited'].value_counts()"
      ],
      "execution_count": 11,
      "outputs": [
        {
          "output_type": "execute_result",
          "data": {
            "text/plain": [
              "0    7963\n",
              "1    2037\n",
              "Name: Exited, dtype: int64"
            ]
          },
          "metadata": {
            "tags": []
          },
          "execution_count": 11
        }
      ]
    },
    {
      "cell_type": "markdown",
      "metadata": {
        "id": "xjPHlc0U3ws4",
        "colab_type": "text"
      },
      "source": [
        "Exited = No is very high than Exited = Yes. Seems to have class imbalance."
      ]
    },
    {
      "cell_type": "code",
      "metadata": {
        "id": "KcTq4eDD3ws5",
        "colab_type": "code",
        "colab": {
          "base_uri": "https://localhost:8080/",
          "height": 1000
        },
        "outputId": "51a6cc85-b376-4e8e-bcf0-c95607fb4c86"
      },
      "source": [
        "for i in num_var:\n",
        "    g=sns.FacetGrid(data,col='Exited')\n",
        "    g.map(sns.distplot,i)"
      ],
      "execution_count": 12,
      "outputs": [
        {
          "output_type": "display_data",
          "data": {
            "image/png": "[encoded data removed]",
            "text/plain": [
              "<Figure size 432x216 with 2 Axes>"
            ]
          },
          "metadata": {
            "tags": [],
            "needs_background": "light"
          }
        },
        {
          "output_type": "display_data",
          "data": {
            "image/png": "[encoded data removed]",
            "text/plain": [
              "<Figure size 432x216 with 2 Axes>"
            ]
          },
          "metadata": {
            "tags": [],
            "needs_background": "light"
          }
        },
        {
          "output_type": "display_data",
          "data": {
            "image/png": "[encoded data removed]",
            "text/plain": [
              "<Figure size 432x216 with 2 Axes>"
            ]
          },
          "metadata": {
            "tags": [],
            "needs_background": "light"
          }
        },
        {
          "output_type": "display_data",
          "data": {
            "image/png": "[encoded data removed]",
            "text/plain": [
              "<Figure size 432x216 with 2 Axes>"
            ]
          },
          "metadata": {
            "tags": [],
            "needs_background": "light"
          }
        },
        {
          "output_type": "display_data",
          "data": {
            "image/png": "[encoded data removed]",
            "text/plain": [
              "<Figure size 432x216 with 2 Axes>"
            ]
          },
          "metadata": {
            "tags": [],
            "needs_background": "light"
          }
        }
      ]
    },
    {
      "cell_type": "code",
      "metadata": {
        "id": "OdBSgmoU3ws7",
        "colab_type": "code",
        "colab": {
          "base_uri": "https://localhost:8080/",
          "height": 450
        },
        "outputId": "3fb8b10b-643c-4709-876f-22ef15734814"
      },
      "source": [
        "#Correlation\n",
        "fig, ax = plt.subplots(figsize=(12,6)) \n",
        "sns.heatmap(data.corr(), annot = True, fmt = \".2f\", linewidths=0.5, ax=ax) \n",
        "plt.show()"
      ],
      "execution_count": 13,
      "outputs": [
        {
          "output_type": "display_data",
          "data": {
            "image/png": "[encoded data removed]",
            "text/plain": [
              "<Figure size 864x432 with 2 Axes>"
            ]
          },
          "metadata": {
            "tags": [],
            "needs_background": "light"
          }
        }
      ]
    },
    {
      "cell_type": "code",
      "metadata": {
        "id": "K3LOPEzY3ws9",
        "colab_type": "code",
        "colab": {
          "base_uri": "https://localhost:8080/",
          "height": 260
        },
        "outputId": "89bfc481-6719-40fe-8c88-12717054cff5"
      },
      "source": [
        "X=pd.get_dummies(data.drop(['Exited'],axis=1),drop_first=True)\n",
        "y=data['Exited']\n",
        "print(X[:5])\n",
        "print(y[:5])"
      ],
      "execution_count": 14,
      "outputs": [
        {
          "output_type": "stream",
          "text": [
            "   CreditScore  Age  Tenure  ...  Geography_Germany  Geography_Spain  Gender_Male\n",
            "0          619   42       2  ...                  0                0            0\n",
            "1          608   41       1  ...                  0                1            0\n",
            "2          502   42       8  ...                  0                0            0\n",
            "3          699   39       1  ...                  0                0            0\n",
            "4          850   43       2  ...                  0                1            0\n",
            "\n",
            "[5 rows x 11 columns]\n",
            "0    1\n",
            "1    0\n",
            "2    1\n",
            "3    0\n",
            "4    0\n",
            "Name: Exited, dtype: int64\n"
          ],
          "name": "stdout"
        }
      ]
    },
    {
      "cell_type": "code",
      "metadata": {
        "id": "9i-Idp_d3ws_",
        "colab_type": "code",
        "colab": {}
      },
      "source": [
        "X_train,X_test,y_train,y_test=train_test_split(X,y,test_size=.2,random_state=0)"
      ],
      "execution_count": 15,
      "outputs": []
    },
    {
      "cell_type": "code",
      "metadata": {
        "id": "VzZ4j__53wtB",
        "colab_type": "code",
        "colab": {}
      },
      "source": [
        "scaler=StandardScaler()\n",
        "X_train=scaler.fit_transform(X_train)\n",
        "X_test=scaler.transform(X_test)"
      ],
      "execution_count": 16,
      "outputs": []
    },
    {
      "cell_type": "code",
      "metadata": {
        "id": "Rw1buq7M3wtD",
        "colab_type": "code",
        "colab": {
          "base_uri": "https://localhost:8080/",
          "height": 225
        },
        "outputId": "d61c6bd9-fdf5-4dba-c413-a23323e65052"
      },
      "source": [
        "lr=LogisticRegression(random_state=1309)\n",
        "lr.fit(X_train,y_train)\n",
        "y_pred=lr.predict(X_test)\n",
        "print(classification_report(y_test,y_pred))\n",
        "print(lr.score(X_test,y_test))\n",
        "print(confusion_matrix(y_test,y_pred))"
      ],
      "execution_count": 17,
      "outputs": [
        {
          "output_type": "stream",
          "text": [
            "              precision    recall  f1-score   support\n",
            "\n",
            "           0       0.83      0.96      0.89      1595\n",
            "           1       0.58      0.24      0.34       405\n",
            "\n",
            "    accuracy                           0.81      2000\n",
            "   macro avg       0.71      0.60      0.61      2000\n",
            "weighted avg       0.78      0.81      0.78      2000\n",
            "\n",
            "0.811\n",
            "[[1526   69]\n",
            " [ 309   96]]\n"
          ],
          "name": "stdout"
        }
      ]
    },
    {
      "cell_type": "code",
      "metadata": {
        "id": "s_GG-RP0mx9e",
        "colab_type": "code",
        "colab": {
          "base_uri": "https://localhost:8080/",
          "height": 225
        },
        "outputId": "e958d6b0-e5ce-4b11-e76c-0145585c6d64"
      },
      "source": [
        "lr=LogisticRegression(random_state=1309)\n",
        "lr.fit(X_train,y_train)\n",
        "y_pred=lr.predict(X_test)\n",
        "print(classification_report(y_test,y_pred))\n",
        "print(lr.score(X_test,y_test))\n",
        "print(confusion_matrix(y_test,y_pred))"
      ],
      "execution_count": 18,
      "outputs": [
        {
          "output_type": "stream",
          "text": [
            "              precision    recall  f1-score   support\n",
            "\n",
            "           0       0.83      0.96      0.89      1595\n",
            "           1       0.58      0.24      0.34       405\n",
            "\n",
            "    accuracy                           0.81      2000\n",
            "   macro avg       0.71      0.60      0.61      2000\n",
            "weighted avg       0.78      0.81      0.78      2000\n",
            "\n",
            "0.811\n",
            "[[1526   69]\n",
            " [ 309   96]]\n"
          ],
          "name": "stdout"
        }
      ]
    },
    {
      "cell_type": "markdown",
      "metadata": {
        "id": "lV3fwMlw3wtF",
        "colab_type": "text"
      },
      "source": [
        "Since the recall is very low need to do imbalanced data handling techniques"
      ]
    },
    {
      "cell_type": "code",
      "metadata": {
        "id": "Vpljj_r63wtF",
        "colab_type": "code",
        "colab": {
          "base_uri": "https://localhost:8080/",
          "height": 211
        },
        "outputId": "b99439a9-597f-4093-8628-4bed42ade247"
      },
      "source": [
        "#Smote\n",
        "print(\"Before OverSampling, counts of label '1': {}\".format(sum(y_train == 1))) \n",
        "print(\"Before OverSampling, counts of label '0': {} \\n\".format(sum(y_train == 0))) \n",
        "  \n",
        "\n",
        "sm = SMOTE(random_state = 2) \n",
        "X_train_res, y_train_res = sm.fit_sample(X_train, y_train) \n",
        "  \n",
        "print('After OverSampling, the shape of train_X: {}'.format(X_train_res.shape)) \n",
        "print('After OverSampling, the shape of train_y: {} \\n'.format(y_train_res.shape)) \n",
        "  \n",
        "print(\"After OverSampling, counts of label '1': {}\".format(sum(y_train_res == 1))) \n",
        "print(\"After OverSampling, counts of label '0': {}\".format(sum(y_train_res == 0))) \n"
      ],
      "execution_count": 19,
      "outputs": [
        {
          "output_type": "stream",
          "text": [
            "Before OverSampling, counts of label '1': 1632\n",
            "Before OverSampling, counts of label '0': 6368 \n",
            "\n",
            "After OverSampling, the shape of train_X: (12736, 11)\n",
            "After OverSampling, the shape of train_y: (12736,) \n",
            "\n",
            "After OverSampling, counts of label '1': 6368\n",
            "After OverSampling, counts of label '0': 6368\n"
          ],
          "name": "stdout"
        },
        {
          "output_type": "stream",
          "text": [
            "/usr/local/lib/python3.6/dist-packages/sklearn/utils/deprecation.py:87: FutureWarning: Function safe_indexing is deprecated; safe_indexing is deprecated in version 0.22 and will be removed in version 0.24.\n",
            "  warnings.warn(msg, category=FutureWarning)\n"
          ],
          "name": "stderr"
        }
      ]
    },
    {
      "cell_type": "code",
      "metadata": {
        "id": "6t1svzNym5QQ",
        "colab_type": "code",
        "colab": {
          "base_uri": "https://localhost:8080/",
          "height": 225
        },
        "outputId": "00f4fc5d-2491-4b01-928b-a2b50ec9c8b3"
      },
      "source": [
        "#Using Scaled features\n",
        "lr1 = LogisticRegression() \n",
        "lr1.fit(X_train_res, y_train_res) \n",
        "y_pred = lr1.predict(X_test) \n",
        "  \n",
        "# print classification report \n",
        "print(classification_report(y_test, y_pred))\n",
        "print(lr.score(X_test,y_test))\n",
        "print(confusion_matrix(y_test,y_pred))"
      ],
      "execution_count": 21,
      "outputs": [
        {
          "output_type": "stream",
          "text": [
            "              precision    recall  f1-score   support\n",
            "\n",
            "           0       0.91      0.70      0.79      1595\n",
            "           1       0.38      0.71      0.50       405\n",
            "\n",
            "    accuracy                           0.71      2000\n",
            "   macro avg       0.64      0.71      0.64      2000\n",
            "weighted avg       0.80      0.71      0.73      2000\n",
            "\n",
            "0.811\n",
            "[[1123  472]\n",
            " [ 116  289]]\n"
          ],
          "name": "stdout"
        }
      ]
    },
    {
      "cell_type": "markdown",
      "metadata": {
        "id": "kRxL9VbimBMk",
        "colab_type": "text"
      },
      "source": [
        "The Recall is now increased after upsampling the positive labels and fitting the model."
      ]
    },
    {
      "cell_type": "code",
      "metadata": {
        "id": "n6-KVeiF3wtJ",
        "colab_type": "code",
        "colab": {}
      },
      "source": [
        "r=1309\n",
        "models = [LogisticRegression(random_state=r),GaussianNB(), KNeighborsClassifier(),BaggingClassifier(random_state=r),DecisionTreeClassifier(random_state=r),\n",
        "          RandomForestClassifier(random_state=r), GradientBoostingClassifier(random_state=r),\n",
        "          MLPClassifier(random_state=r)]\n",
        "names = [\"LogisticRegression\",\"GaussianNB\",\"KNN\",\"Bagging\",\n",
        "             \"DecisionTree\",\"Random_Forest\",\"GBM\",\"Art.Neural_Network\"]"
      ],
      "execution_count": 22,
      "outputs": []
    },
    {
      "cell_type": "code",
      "metadata": {
        "id": "hNUJTW3E3wtK",
        "colab_type": "code",
        "colab": {
          "base_uri": "https://localhost:8080/",
          "height": 245
        },
        "outputId": "8e8b12e5-d82e-4461-c748-ef752ebdd965"
      },
      "source": [
        "print('Default model validation accuracies for the train data:', end = \"\\n\\n\")\n",
        "for name, model in zip(names, models):\n",
        "    model.fit(X_train_res, y_train_res)\n",
        "    y_pred = model.predict(X_test) \n",
        "    print(name,':',\"%.3f\" % accuracy_score(y_pred, y_test))"
      ],
      "execution_count": 23,
      "outputs": [
        {
          "output_type": "stream",
          "text": [
            "Default model validation accuracies for the train data:\n",
            "\n",
            "LogisticRegression : 0.706\n",
            "GaussianNB : 0.726\n",
            "KNN : 0.736\n",
            "Bagging : 0.832\n",
            "DecisionTree : 0.778\n",
            "Random_Forest : 0.843\n",
            "GBM : 0.826\n",
            "Art.Neural_Network : 0.793\n"
          ],
          "name": "stdout"
        },
        {
          "output_type": "stream",
          "text": [
            "/usr/local/lib/python3.6/dist-packages/sklearn/neural_network/_multilayer_perceptron.py:571: ConvergenceWarning: Stochastic Optimizer: Maximum iterations (200) reached and the optimization hasn't converged yet.\n",
            "  % self.max_iter, ConvergenceWarning)\n"
          ],
          "name": "stderr"
        }
      ]
    },
    {
      "cell_type": "code",
      "metadata": {
        "id": "jVakLsj0Klv6",
        "colab_type": "code",
        "colab": {}
      },
      "source": [
        "def model_report(model):\n",
        "  model.fit(X_train_res,y_train_res)\n",
        "  y_pred=model.predict(X_test)\n",
        "  print(classification_report(y_test,y_pred))\n",
        "  print(accuracy_score(y_test,y_pred))\n",
        "  print(confusion_matrix(y_test,y_pred))"
      ],
      "execution_count": 24,
      "outputs": []
    },
    {
      "cell_type": "markdown",
      "metadata": {
        "id": "M2VqhGBJuTXg",
        "colab_type": "text"
      },
      "source": [
        "##Paramater Tuning"
      ]
    },
    {
      "cell_type": "code",
      "metadata": {
        "id": "T6qrFsg2lhpr",
        "colab_type": "code",
        "colab": {
          "base_uri": "https://localhost:8080/",
          "height": 347
        },
        "outputId": "d05db378-03e2-43fc-a867-beec59b65c9c"
      },
      "source": [
        "#Parameter tuning of Logistic Regression\n",
        "lr=LogisticRegression()\n",
        "logreg_params= {\"C\":np.logspace(-1, 1, 10),\n",
        "                    \"penalty\": [\"l1\",\"l2\"], \"solver\":['lbfgs', 'liblinear', 'sag', 'saga'], \"max_iter\":[1000]}\n",
        "start_time = time.time()\n",
        "clf = GridSearchCV(lr, param_grid=logreg_params, cv =5, scoring = \"recall\", n_jobs = -1,verbose = False)\n",
        "clf.fit(X_train_res,y_train_res)\n",
        "cv_result=clf.best_score_\n",
        "lr_best_estimators=clf.best_estimator_\n",
        "print('cross validation accuracy : %.3f'%cv_result)\n",
        "print(lr_best_estimators)\n",
        "print(\"--- %s seconds ---\" % (time.time() - start_time))\n",
        "model_report(lr_best_estimators)"
      ],
      "execution_count": 25,
      "outputs": [
        {
          "output_type": "stream",
          "text": [
            "cross validation accuracy : 0.704\n",
            "LogisticRegression(C=0.1, class_weight=None, dual=False, fit_intercept=True,\n",
            "                   intercept_scaling=1, l1_ratio=None, max_iter=1000,\n",
            "                   multi_class='auto', n_jobs=None, penalty='l1',\n",
            "                   random_state=None, solver='liblinear', tol=0.0001, verbose=0,\n",
            "                   warm_start=False)\n",
            "--- 8.414132595062256 seconds ---\n",
            "              precision    recall  f1-score   support\n",
            "\n",
            "           0       0.91      0.70      0.79      1595\n",
            "           1       0.38      0.72      0.50       405\n",
            "\n",
            "    accuracy                           0.71      2000\n",
            "   macro avg       0.64      0.71      0.64      2000\n",
            "weighted avg       0.80      0.71      0.73      2000\n",
            "\n",
            "0.7055\n",
            "[[1121  474]\n",
            " [ 115  290]]\n"
          ],
          "name": "stdout"
        }
      ]
    },
    {
      "cell_type": "code",
      "metadata": {
        "id": "CgYR3HCfuql4",
        "colab_type": "code",
        "colab": {
          "base_uri": "https://localhost:8080/",
          "height": 277
        },
        "outputId": "538c2e2c-e0c2-4c90-dae0-11bc087ef9bf"
      },
      "source": [
        "#Parameter Tuning for Naive Bayes\n",
        "nb=GaussianNB()\n",
        "NB_params = {'var_smoothing': np.logspace(0,-9, num=100)}\n",
        "start_time = time.time()\n",
        "clf = GridSearchCV(nb, param_grid=NB_params, cv =5, scoring = \"recall\", n_jobs = -1,verbose = False)\n",
        "clf.fit(X_train_res,y_train_res)\n",
        "cv_result=clf.best_score_\n",
        "nb_best_estimators=clf.best_estimator_\n",
        "print('cross validation accuracy : %.3f'%cv_result)\n",
        "print(nb_best_estimators)\n",
        "print(\"--- %s seconds ---\" % (time.time() - start_time))\n",
        "model_report(nb_best_estimators)"
      ],
      "execution_count": 26,
      "outputs": [
        {
          "output_type": "stream",
          "text": [
            "cross validation accuracy : 0.708\n",
            "GaussianNB(priors=None, var_smoothing=0.0533669923120631)\n",
            "--- 2.490081310272217 seconds ---\n",
            "              precision    recall  f1-score   support\n",
            "\n",
            "           0       0.92      0.72      0.81      1595\n",
            "           1       0.40      0.74      0.52       405\n",
            "\n",
            "    accuracy                           0.72      2000\n",
            "   macro avg       0.66      0.73      0.66      2000\n",
            "weighted avg       0.81      0.72      0.75      2000\n",
            "\n",
            "0.7235\n",
            "[[1148  447]\n",
            " [ 106  299]]\n"
          ],
          "name": "stdout"
        }
      ]
    },
    {
      "cell_type": "code",
      "metadata": {
        "id": "_d7zlCqf1TRf",
        "colab_type": "code",
        "colab": {
          "base_uri": "https://localhost:8080/",
          "height": 312
        },
        "outputId": "3bc40cf0-e58b-4da9-d440-68eb956d3d57"
      },
      "source": [
        "#Parameter Tuning for KNN\n",
        "knn = KNeighborsClassifier()\n",
        "knn_params= {\"n_neighbors\": np.linspace(1,19,10, dtype = int).tolist(),\n",
        "                 \"weights\": [\"uniform\",\"distance\"],\n",
        "                 \"metric\":[\"euclidean\",\"manhattan\"]}\n",
        "start_time = time.time()\n",
        "clf = GridSearchCV(knn, param_grid=knn_params, cv =5, scoring = \"recall\", n_jobs = -1,verbose = False)\n",
        "clf.fit(X_train_res,y_train_res)\n",
        "cv_result=clf.best_score_\n",
        "knn_best_estimators=clf.best_estimator_\n",
        "print('cross validation accuracy : %.3f'%cv_result)\n",
        "print(knn_best_estimators)\n",
        "print(\"--- %s seconds ---\" % (time.time() - start_time))\n",
        "model_report(knn_best_estimators)"
      ],
      "execution_count": 27,
      "outputs": [
        {
          "output_type": "stream",
          "text": [
            "cross validation accuracy : 0.976\n",
            "KNeighborsClassifier(algorithm='auto', leaf_size=30, metric='euclidean',\n",
            "                     metric_params=None, n_jobs=None, n_neighbors=3, p=2,\n",
            "                     weights='distance')\n",
            "--- 54.48993134498596 seconds ---\n",
            "              precision    recall  f1-score   support\n",
            "\n",
            "           0       0.90      0.76      0.82      1595\n",
            "           1       0.41      0.67      0.51       405\n",
            "\n",
            "    accuracy                           0.74      2000\n",
            "   macro avg       0.66      0.72      0.67      2000\n",
            "weighted avg       0.80      0.74      0.76      2000\n",
            "\n",
            "0.741\n",
            "[[1210  385]\n",
            " [ 133  272]]\n"
          ],
          "name": "stdout"
        }
      ]
    },
    {
      "cell_type": "code",
      "metadata": {
        "id": "DoWCnYMzxBR5",
        "colab_type": "code",
        "colab": {
          "base_uri": "https://localhost:8080/",
          "height": 225
        },
        "outputId": "7023bce1-c514-490c-e39b-8703737d7a3e"
      },
      "source": [
        "# Decision Tree model without tuning\n",
        "dt =DecisionTreeClassifier()\n",
        "dt.fit(X_train_res,y_train_res)\n",
        "y_pred=dt.predict(X_test)\n",
        "print(\"Accuracy:\",dt.score(X_test,y_test))\n",
        "print(classification_report(y_test,y_pred))\n",
        "print(confusion_matrix(y_test,y_pred))"
      ],
      "execution_count": 28,
      "outputs": [
        {
          "output_type": "stream",
          "text": [
            "Accuracy: 0.7745\n",
            "              precision    recall  f1-score   support\n",
            "\n",
            "           0       0.89      0.82      0.85      1595\n",
            "           1       0.46      0.59      0.51       405\n",
            "\n",
            "    accuracy                           0.77      2000\n",
            "   macro avg       0.67      0.70      0.68      2000\n",
            "weighted avg       0.80      0.77      0.78      2000\n",
            "\n",
            "[[1312  283]\n",
            " [ 168  237]]\n"
          ],
          "name": "stdout"
        }
      ]
    },
    {
      "cell_type": "code",
      "metadata": {
        "id": "37N4IqWsp37Z",
        "colab_type": "code",
        "colab": {
          "base_uri": "https://localhost:8080/",
          "height": 364
        },
        "outputId": "89bfd13f-ef26-45b1-9d8d-781368708717"
      },
      "source": [
        "#Decision Tree parameter tuning\n",
        "dtree_params = {\"min_samples_split\" : range(10,500,20),\n",
        "                \"max_depth\": range(1,20,2)}\n",
        "start_time = time.time()\n",
        "clf = GridSearchCV(dt, param_grid=dtree_params, cv =5, scoring = \"recall\", n_jobs = -1,verbose = False)\n",
        "clf.fit(X_train_res,y_train_res)\n",
        "cv_result=clf.best_score_\n",
        "dt_best_estimators=clf.best_estimator_\n",
        "print('cross validation accuracy : %.3f'%cv_result)\n",
        "print(dt_best_estimators)\n",
        "print(\"--- %s seconds ---\" % (time.time() - start_time))\n",
        "model_report(dt_best_estimators)"
      ],
      "execution_count": 29,
      "outputs": [
        {
          "output_type": "stream",
          "text": [
            "cross validation accuracy : 0.815\n",
            "DecisionTreeClassifier(ccp_alpha=0.0, class_weight=None, criterion='gini',\n",
            "                       max_depth=9, max_features=None, max_leaf_nodes=None,\n",
            "                       min_impurity_decrease=0.0, min_impurity_split=None,\n",
            "                       min_samples_leaf=1, min_samples_split=10,\n",
            "                       min_weight_fraction_leaf=0.0, presort='deprecated',\n",
            "                       random_state=None, splitter='best')\n",
            "--- 30.440423011779785 seconds ---\n",
            "              precision    recall  f1-score   support\n",
            "\n",
            "           0       0.91      0.77      0.83      1595\n",
            "           1       0.44      0.71      0.54       405\n",
            "\n",
            "    accuracy                           0.76      2000\n",
            "   macro avg       0.68      0.74      0.69      2000\n",
            "weighted avg       0.82      0.76      0.78      2000\n",
            "\n",
            "0.757\n",
            "[[1227  368]\n",
            " [ 118  287]]\n"
          ],
          "name": "stdout"
        }
      ]
    },
    {
      "cell_type": "markdown",
      "metadata": {
        "id": "grnmHML0T1dF",
        "colab_type": "text"
      },
      "source": [
        "##Voting Classifier"
      ]
    },
    {
      "cell_type": "code",
      "metadata": {
        "id": "PGlBeSAtSZYL",
        "colab_type": "code",
        "colab": {
          "base_uri": "https://localhost:8080/",
          "height": 225
        },
        "outputId": "c5099a52-f7e8-46f1-c8e2-9186958ad1a4"
      },
      "source": [
        "estimators=[['Logistic', lr_best_estimators],['Naive Bayes', nb_best_estimators],['Nearest Neigbor',knn_best_estimators],[\"decision tree\",dt_best_estimators]]\n",
        "votingC = VotingClassifier(estimators = estimators, voting = \"soft\", n_jobs = -1)\n",
        "model_report(votingC)\n",
        "#votingC = votingC.fit(X_train_res, y_train_res)\n",
        "#print(accuracy_score(votingC.predict(X_test),y_test))"
      ],
      "execution_count": 30,
      "outputs": [
        {
          "output_type": "stream",
          "text": [
            "              precision    recall  f1-score   support\n",
            "\n",
            "           0       0.92      0.80      0.86      1595\n",
            "           1       0.48      0.73      0.58       405\n",
            "\n",
            "    accuracy                           0.79      2000\n",
            "   macro avg       0.70      0.77      0.72      2000\n",
            "weighted avg       0.83      0.79      0.80      2000\n",
            "\n",
            "0.787\n",
            "[[1278  317]\n",
            " [ 109  296]]\n"
          ],
          "name": "stdout"
        }
      ]
    },
    {
      "cell_type": "markdown",
      "metadata": {
        "id": "72l3UtaKU6yp",
        "colab_type": "text"
      },
      "source": [
        "##Random Forest"
      ]
    },
    {
      "cell_type": "code",
      "metadata": {
        "id": "9s68F0Gb3wtM",
        "colab_type": "code",
        "colab": {
          "base_uri": "https://localhost:8080/",
          "height": 261
        },
        "outputId": "edd64bce-2251-4302-81ad-da302e560083"
      },
      "source": [
        "#Random Forest without tuning\n",
        "rf=RandomForestClassifier()\n",
        "model_report(rf)\n",
        "'''rf.fit(X_train_res,y_train_res)\n",
        "y_pred=rf.predict(X_test)\n",
        "print(\"Accuracy:\",rf.score(X_test,y_test))\n",
        "print(classification_report(y_test,y_pred))\n",
        "print(confusion_matrix(y_test,y_pred))'''"
      ],
      "execution_count": 31,
      "outputs": [
        {
          "output_type": "stream",
          "text": [
            "              precision    recall  f1-score   support\n",
            "\n",
            "           0       0.91      0.89      0.90      1595\n",
            "           1       0.61      0.65      0.63       405\n",
            "\n",
            "    accuracy                           0.84      2000\n",
            "   macro avg       0.76      0.77      0.76      2000\n",
            "weighted avg       0.85      0.84      0.85      2000\n",
            "\n",
            "0.8435\n",
            "[[1424  171]\n",
            " [ 142  263]]\n"
          ],
          "name": "stdout"
        },
        {
          "output_type": "execute_result",
          "data": {
            "application/vnd.google.colaboratory.intrinsic+json": {
              "type": "string"
            },
            "text/plain": [
              "'rf.fit(X_train_res,y_train_res)\\ny_pred=rf.predict(X_test)\\nprint(\"Accuracy:\",rf.score(X_test,y_test))\\nprint(classification_report(y_test,y_pred))\\nprint(confusion_matrix(y_test,y_pred))'"
            ]
          },
          "metadata": {
            "tags": []
          },
          "execution_count": 31
        }
      ]
    },
    {
      "cell_type": "code",
      "metadata": {
        "id": "hiIQC-0N3wtO",
        "colab_type": "code",
        "colab": {
          "base_uri": "https://localhost:8080/",
          "height": 381
        },
        "outputId": "c8ce72fb-1632-49f2-aba8-68333b2b1a42"
      },
      "source": [
        "start_time = time.time()\n",
        "rf_params = {\"max_features\": [\"log2\",\"auto\",\"sqrt\"],\n",
        "                \"min_samples_split\":[2,3,5],\"min_samples_leaf\":[1,3,5],\n",
        "                \"bootstrap\":[True,False],\n",
        "                \"n_estimators\":[50,100,150],\n",
        "                \"criterion\":[\"gini\",\"entropy\"]}\n",
        "clf = GridSearchCV(rf, param_grid=rf_params, cv =5, scoring = \"recall\", n_jobs = -1,verbose = False)\n",
        "clf.fit(X_train_res,y_train_res)\n",
        "cv_result=clf.best_score_\n",
        "rf_best_estimators=clf.best_estimator_\n",
        "print('cross validation accuracy : %.3f'%cv_result)\n",
        "print(rf_best_estimators)\n",
        "#print(\"--- %s seconds ---\" % (time.time() - start_time))\n",
        "model_report(rf_best_estimators)"
      ],
      "execution_count": 32,
      "outputs": [
        {
          "output_type": "stream",
          "text": [
            "cross validation accuracy : 0.910\n",
            "RandomForestClassifier(bootstrap=False, ccp_alpha=0.0, class_weight=None,\n",
            "                       criterion='entropy', max_depth=None, max_features='log2',\n",
            "                       max_leaf_nodes=None, max_samples=None,\n",
            "                       min_impurity_decrease=0.0, min_impurity_split=None,\n",
            "                       min_samples_leaf=1, min_samples_split=2,\n",
            "                       min_weight_fraction_leaf=0.0, n_estimators=100,\n",
            "                       n_jobs=None, oob_score=False, random_state=None,\n",
            "                       verbose=0, warm_start=False)\n",
            "              precision    recall  f1-score   support\n",
            "\n",
            "           0       0.90      0.91      0.91      1595\n",
            "           1       0.63      0.62      0.62       405\n",
            "\n",
            "    accuracy                           0.85      2000\n",
            "   macro avg       0.77      0.76      0.76      2000\n",
            "weighted avg       0.85      0.85      0.85      2000\n",
            "\n",
            "0.8485\n",
            "[[1447  148]\n",
            " [ 155  250]]\n"
          ],
          "name": "stdout"
        }
      ]
    },
    {
      "cell_type": "markdown",
      "metadata": {
        "id": "8oy-jcpzmMLj",
        "colab_type": "text"
      },
      "source": [
        "Best parameters are max_features='log2',\n",
        "                \"min_samples_split\":2,\n",
        "                \"min_samples_leaf\":1,\n",
        "                \"bootstrap\":False,\n",
        "                \"n_estimators\":100,\n",
        "                \"criterion\":\"entropy\""
      ]
    },
    {
      "cell_type": "code",
      "metadata": {
        "id": "ps8JN4LUlOuQ",
        "colab_type": "code",
        "colab": {
          "base_uri": "https://localhost:8080/",
          "height": 35
        },
        "outputId": "bf028d2a-3973-4cfb-da4e-598a14931dcd"
      },
      "source": [
        "#Trying for my data\n",
        "my_data=np.array([732,24,2,3400,1,1,1,80000,0,0,0]).reshape(1,11)\n",
        "my_data.shape\n",
        "votingC.predict(my_data)"
      ],
      "execution_count": 33,
      "outputs": [
        {
          "output_type": "execute_result",
          "data": {
            "text/plain": [
              "array([0])"
            ]
          },
          "metadata": {
            "tags": []
          },
          "execution_count": 33
        }
      ]
    }
  ]
}